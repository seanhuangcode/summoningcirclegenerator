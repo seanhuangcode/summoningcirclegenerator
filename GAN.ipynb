{
  "nbformat": 4,
  "nbformat_minor": 0,
  "metadata": {
    "colab": {
      "provenance": [],
      "gpuType": "T4"
    },
    "kernelspec": {
      "name": "python3",
      "display_name": "Python 3"
    },
    "language_info": {
      "name": "python"
    },
    "accelerator": "GPU"
  },
  "cells": [
    {
      "cell_type": "code",
      "execution_count": 18,
      "metadata": {
        "id": "BfRtkAVteFx8"
      },
      "outputs": [],
      "source": [
        "import os\n",
        "import cv2\n",
        "from google.colab.patches import cv2_imshow\n",
        "import numpy as np\n",
        "from tensorflow.keras.preprocessing.image import load_img, img_to_array\n",
        "import matplotlib.pyplot as plt\n",
        "from PIL import Image\n",
        "import tensorflow as tf"
      ]
    },
    {
      "cell_type": "code",
      "source": [
        "from google.colab import drive\n",
        "drive.mount('/content/drive/')"
      ],
      "metadata": {
        "id": "g5kjN8rIeVpt",
        "colab": {
          "base_uri": "https://localhost:8080/"
        },
        "outputId": "f18b6980-c202-4ae9-d2ee-8c14a01ec7d7"
      },
      "execution_count": 2,
      "outputs": [
        {
          "output_type": "stream",
          "name": "stdout",
          "text": [
            "Mounted at /content/drive/\n"
          ]
        }
      ]
    },
    {
      "cell_type": "code",
      "source": [
        "i = 0"
      ],
      "metadata": {
        "id": "lK8kpuZwt1sA"
      },
      "execution_count": 767,
      "outputs": []
    },
    {
      "cell_type": "code",
      "source": [
        "for image_name in os.listdir('/content/drive/MyDrive/GAN/singular summoning circle - Search Images'):\n",
        "    i += 1\n",
        "    img = cv2.imread(os.path.join('/content/drive/MyDrive/GAN/singular summoning circle - Search Images', image_name))\n",
        "    resized_image = cv2.resize(img, (128, 128))\n",
        "    image_array = np.array(resized_image)\n",
        "    grayscale = rgb_to_grayscale(image_array)\n",
        "    image = Image.fromarray(grayscale)\n",
        "    image.save(os.path.join(folder_path, \"images\", \"h\", f'image{i}.jpeg'))"
      ],
      "metadata": {
        "id": "1iCEVY6afkQ4"
      },
      "execution_count": 769,
      "outputs": []
    },
    {
      "cell_type": "code",
      "source": [
        "folder_path = '/content/drive/MyDrive/GAN'"
      ],
      "metadata": {
        "id": "3taTMNUZfTkG"
      },
      "execution_count": 3,
      "outputs": []
    },
    {
      "cell_type": "code",
      "source": [
        "def rgb_to_grayscale(img):\n",
        "    R = img[:, :, 0]\n",
        "    G = img[:, :, 1]\n",
        "    B = img[:, :, 2]\n",
        "\n",
        "    grayscale_image = 0.2989 * R + 0.5870 * G + 0.1140 * B\n",
        "    grayscale_image = np.clip(grayscale_image, 0, 255).astype(np.uint8)\n",
        "\n",
        "    return grayscale_image"
      ],
      "metadata": {
        "id": "BgiFC6T1Fj_k"
      },
      "execution_count": 4,
      "outputs": []
    },
    {
      "cell_type": "code",
      "source": [
        "img = cv2.imread('/content/drive/MyDrive/GAN/images/h/image105.jpeg', cv2.IMREAD_GRAYSCALE)\n",
        "\n",
        "bw_image_array = np.array(img)\n",
        "bw_image_array"
      ],
      "metadata": {
        "colab": {
          "base_uri": "https://localhost:8080/",
          "height": 168
        },
        "id": "MOs2Zfx9ljaT",
        "outputId": "b791594e-9a0c-4150-f69d-7b6d30aa3955"
      },
      "execution_count": 805,
      "outputs": [
        {
          "output_type": "execute_result",
          "data": {
            "text/plain": [
              "array([[0, 0, 0, ..., 0, 0, 0],\n",
              "       [0, 0, 0, ..., 0, 0, 0],\n",
              "       [0, 0, 0, ..., 0, 0, 0],\n",
              "       ...,\n",
              "       [0, 0, 0, ..., 0, 0, 0],\n",
              "       [0, 0, 0, ..., 0, 0, 0],\n",
              "       [0, 0, 0, ..., 0, 0, 0]], dtype=uint8)"
            ],
            "text/html": [
              "<style>\n",
              "      .ndarray_repr .ndarray_raw_data {\n",
              "        display: none;\n",
              "      }\n",
              "      .ndarray_repr.show_array .ndarray_raw_data {\n",
              "        display: block;\n",
              "      }\n",
              "      .ndarray_repr.show_array .ndarray_image_preview {\n",
              "        display: none;\n",
              "      }\n",
              "      </style>\n",
              "      <div id=\"id-8b495a9c-72cd-4f99-bef2-6f383dfc499c\" class=\"ndarray_repr\"><pre>ndarray (128, 128) <button style=\"padding: 0 2px;\">show data</button></pre><img src=\"data:image/png;base64,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\" class=\"ndarray_image_preview\" /><pre class=\"ndarray_raw_data\">array([[0, 0, 0, ..., 0, 0, 0],\n",
              "       [0, 0, 0, ..., 0, 0, 0],\n",
              "       [0, 0, 0, ..., 0, 0, 0],\n",
              "       ...,\n",
              "       [0, 0, 0, ..., 0, 0, 0],\n",
              "       [0, 0, 0, ..., 0, 0, 0],\n",
              "       [0, 0, 0, ..., 0, 0, 0]], dtype=uint8)</pre></div><script>\n",
              "      (() => {\n",
              "      const titles = ['show data', 'hide data'];\n",
              "      let index = 0\n",
              "      document.querySelector('#id-8b495a9c-72cd-4f99-bef2-6f383dfc499c button').onclick = (e) => {\n",
              "        document.querySelector('#id-8b495a9c-72cd-4f99-bef2-6f383dfc499c').classList.toggle('show_array');\n",
              "        index = (++index) % 2;\n",
              "        document.querySelector('#id-8b495a9c-72cd-4f99-bef2-6f383dfc499c button').textContent = titles[index];\n",
              "        e.preventDefault();\n",
              "        e.stopPropagation();\n",
              "      }\n",
              "      })();\n",
              "    </script>"
            ]
          },
          "metadata": {},
          "execution_count": 805
        }
      ]
    },
    {
      "cell_type": "code",
      "source": [
        "def load_images_from_folder(folder, target_size=(128, 128)):\n",
        "    images = []\n",
        "    for filename in os.listdir(folder):\n",
        "        img_path = os.path.join(folder, filename)\n",
        "        img = cv2.imread(img_path, cv2.IMREAD_GRAYSCALE)\n",
        "        img_array = img_to_array(img)\n",
        "        img_array = (img_array / 127.5) - 1.0\n",
        "        images.append(img_array)\n",
        "    return np.array(images)"
      ],
      "metadata": {
        "id": "q1GRiQ7bp0jB"
      },
      "execution_count": 19,
      "outputs": []
    },
    {
      "cell_type": "code",
      "source": [
        "path = os.path.join(folder_path, \"images\", \"h\")\n",
        "path\n",
        "np_image_array = load_images_from_folder(path)"
      ],
      "metadata": {
        "id": "pEdRkbpJp_rf"
      },
      "execution_count": 20,
      "outputs": []
    },
    {
      "cell_type": "code",
      "source": [
        "np_image_array.shape"
      ],
      "metadata": {
        "colab": {
          "base_uri": "https://localhost:8080/"
        },
        "id": "V-gD5W-ntdnr",
        "outputId": "d3aa3f6e-71f5-468f-fb32-370be2bf1e90"
      },
      "execution_count": 21,
      "outputs": [
        {
          "output_type": "execute_result",
          "data": {
            "text/plain": [
              "(139, 128, 128, 1)"
            ]
          },
          "metadata": {},
          "execution_count": 21
        }
      ]
    },
    {
      "cell_type": "code",
      "source": [
        "np.random.seed(42)\n",
        "indices = np.random.permutation(np_image_array.shape[0])\n",
        "images_np = np_image_array[indices]"
      ],
      "metadata": {
        "id": "4b4GYuCcrv7-"
      },
      "execution_count": 22,
      "outputs": []
    },
    {
      "cell_type": "code",
      "source": [
        "images_np.shape"
      ],
      "metadata": {
        "colab": {
          "base_uri": "https://localhost:8080/"
        },
        "id": "BIWbhuf6tyEJ",
        "outputId": "5ecf224c-2366-4437-fd93-22a3e12fe6a9"
      },
      "execution_count": 23,
      "outputs": [
        {
          "output_type": "execute_result",
          "data": {
            "text/plain": [
              "(139, 128, 128, 1)"
            ]
          },
          "metadata": {},
          "execution_count": 23
        }
      ]
    },
    {
      "cell_type": "code",
      "source": [
        "dataset = tf.data.Dataset.from_tensor_slices((images_np))"
      ],
      "metadata": {
        "id": "2qo1zP3h02Ge"
      },
      "execution_count": 24,
      "outputs": []
    },
    {
      "cell_type": "code",
      "source": [
        "ds = dataset.cache()\n",
        "ds = ds.shuffle(60000)\n",
        "ds = ds.batch(7)"
      ],
      "metadata": {
        "id": "hCyWQ1Je06hq"
      },
      "execution_count": 25,
      "outputs": []
    },
    {
      "cell_type": "code",
      "source": [
        "ds.as_numpy_iterator().next().shape"
      ],
      "metadata": {
        "colab": {
          "base_uri": "https://localhost:8080/"
        },
        "id": "sxwIv5ZLBLZ_",
        "outputId": "d4fa3b11-7963-4b68-f076-3569e1624569"
      },
      "execution_count": 26,
      "outputs": [
        {
          "output_type": "execute_result",
          "data": {
            "text/plain": [
              "(7, 128, 128, 1)"
            ]
          },
          "metadata": {},
          "execution_count": 26
        }
      ]
    },
    {
      "cell_type": "code",
      "source": [
        "ds.shape()"
      ],
      "metadata": {
        "colab": {
          "base_uri": "https://localhost:8080/",
          "height": 141
        },
        "id": "oshFKO46RHkB",
        "outputId": "674bbf7e-da4e-4707-f037-91b178f73657"
      },
      "execution_count": 786,
      "outputs": [
        {
          "output_type": "error",
          "ename": "AttributeError",
          "evalue": "'_BatchDataset' object has no attribute 'shape'",
          "traceback": [
            "\u001b[0;31m---------------------------------------------------------------------------\u001b[0m",
            "\u001b[0;31mAttributeError\u001b[0m                            Traceback (most recent call last)",
            "\u001b[0;32m<ipython-input-786-12847c6e41a0>\u001b[0m in \u001b[0;36m<cell line: 1>\u001b[0;34m()\u001b[0m\n\u001b[0;32m----> 1\u001b[0;31m \u001b[0mds\u001b[0m\u001b[0;34m.\u001b[0m\u001b[0mshape\u001b[0m\u001b[0;34m(\u001b[0m\u001b[0;34m)\u001b[0m\u001b[0;34m\u001b[0m\u001b[0;34m\u001b[0m\u001b[0m\n\u001b[0m",
            "\u001b[0;31mAttributeError\u001b[0m: '_BatchDataset' object has no attribute 'shape'"
          ]
        }
      ]
    },
    {
      "cell_type": "code",
      "source": [
        "from tensorflow.keras.models import Sequential, Model\n",
        "from tensorflow.keras.layers import Conv2D, Dense, Flatten, Reshape, LeakyReLU, Dropout, UpSampling2D"
      ],
      "metadata": {
        "id": "VVvClcW3t3wM"
      },
      "execution_count": 27,
      "outputs": []
    },
    {
      "cell_type": "code",
      "source": [
        "from tensorflow.keras import layers"
      ],
      "metadata": {
        "id": "cElfwL2_Sfzx"
      },
      "execution_count": 28,
      "outputs": []
    },
    {
      "cell_type": "code",
      "source": [
        "class Generator(Model):\n",
        "    def __init__(self):\n",
        "        super(Generator, self).__init__()\n",
        "\n",
        "        self.dense = layers.Dense(8 * 8 * 256, use_bias=False, input_shape=(100,))\n",
        "        self.reshape = layers.Reshape((8, 8, 256))\n",
        "        self.conv1 = layers.Conv2DTranspose(128, 5, strides=2, padding='same', use_bias=False)\n",
        "        self.batchnorm1 = layers.BatchNormalization()\n",
        "        self.relu1 = layers.ReLU()\n",
        "\n",
        "        self.conv2 = layers.Conv2DTranspose(64, 5, strides=2, padding='same', use_bias=False)\n",
        "        self.batchnorm2 = layers.BatchNormalization()\n",
        "        self.relu2 = layers.ReLU()\n",
        "\n",
        "        self.conv3 = layers.Conv2DTranspose(32, 5, strides=2, padding='same', use_bias=False)\n",
        "        self.batchnorm3 = layers.BatchNormalization()\n",
        "        self.relu3 = layers.ReLU()\n",
        "\n",
        "        self.conv4 = layers.Conv2DTranspose(1, 5, strides=2, padding='same', activation='tanh')\n",
        "\n",
        "    def call(self, inputs, training=False):\n",
        "        x = self.dense(inputs)\n",
        "        x = self.reshape(x)\n",
        "        x = self.conv1(x)\n",
        "        x = self.batchnorm1(x, training=training)\n",
        "        x = self.relu1(x)\n",
        "\n",
        "        x = self.conv2(x)\n",
        "        x = self.batchnorm2(x, training=training)\n",
        "        x = self.relu2(x)\n",
        "\n",
        "        x = self.conv3(x)\n",
        "        x = self.batchnorm3(x, training=training)\n",
        "        x = self.relu3(x)\n",
        "\n",
        "        x = self.conv4(x)\n",
        "        return x"
      ],
      "metadata": {
        "id": "3rgCauwZR7Co"
      },
      "execution_count": 29,
      "outputs": []
    },
    {
      "cell_type": "code",
      "source": [
        "class Discriminator(Model):\n",
        "    def __init__(self):\n",
        "        super(Discriminator, self).__init__()\n",
        "\n",
        "        self.conv1 = layers.Conv2D(64, 5, strides=2, padding='same', input_shape=(128, 128, 1))\n",
        "        self.leaky_relu1 = layers.LeakyReLU(alpha=0.2)\n",
        "\n",
        "        self.conv2 = layers.Conv2D(128, 5, strides=2, padding='same')\n",
        "        self.batchnorm2 = layers.BatchNormalization()\n",
        "        self.leaky_relu2 = layers.LeakyReLU(alpha=0.2)\n",
        "\n",
        "        self.conv3 = layers.Conv2D(256, 5, strides=2, padding='same')\n",
        "        self.batchnorm3 = layers.BatchNormalization()\n",
        "        self.leaky_relu3 = layers.LeakyReLU(alpha=0.2)\n",
        "\n",
        "        self.flatten = layers.Flatten()\n",
        "        self.dense = layers.Dense(1, activation='sigmoid')\n",
        "\n",
        "    def call(self, inputs, training=False):\n",
        "        x = self.conv1(inputs)\n",
        "        x = self.leaky_relu1(x)\n",
        "\n",
        "        x = self.conv2(x)\n",
        "        x = self.batchnorm2(x, training=training)\n",
        "        x = self.leaky_relu2(x)\n",
        "\n",
        "        x = self.conv3(x)\n",
        "        x = self.batchnorm3(x, training=training)\n",
        "        x = self.leaky_relu3(x)\n",
        "\n",
        "        x = self.flatten(x)\n",
        "        x = self.dense(x)\n",
        "        return x"
      ],
      "metadata": {
        "id": "BLtNBbEHR9Az"
      },
      "execution_count": 30,
      "outputs": []
    },
    {
      "cell_type": "code",
      "source": [
        "class ScircleGAN(Model):\n",
        "    def __init__(self, generator, discriminator):\n",
        "        super(ScircleGAN, self).__init__()\n",
        "        self.generator = generator\n",
        "        self.discriminator = discriminator\n",
        "\n",
        "    def compile(self, g_opt, d_opt, g_loss_fn, d_loss_fn):\n",
        "        super(ScircleGAN, self).compile()\n",
        "        self.g_opt = g_opt\n",
        "        self.d_opt = d_opt\n",
        "        self.g_loss_fn = g_loss_fn\n",
        "        self.d_loss_fn = d_loss_fn\n",
        "\n",
        "    def train_step(self, real_images):\n",
        "        batch_size = real_images.shape[0]\n",
        "        noise = tf.random.normal([batch_size, 100])\n",
        "        fake_images = self.generator(noise, training=True)\n",
        "\n",
        "        with tf.GradientTape() as d_tape:\n",
        "            real_output = self.discriminator(real_images, training=True)\n",
        "            fake_output = self.discriminator(fake_images, training=True)\n",
        "\n",
        "            real_labels = tf.ones_like(real_output)\n",
        "            fake_labels = tf.zeros_like(fake_output)\n",
        "\n",
        "            d_loss_real = self.d_loss_fn(real_labels, real_output)\n",
        "            d_loss_fake = self.d_loss_fn(fake_labels, fake_output)\n",
        "\n",
        "            total_d_loss = (d_loss_real + d_loss_fake) / 2\n",
        "\n",
        "        d_gradients = d_tape.gradient(total_d_loss, self.discriminator.trainable_variables)\n",
        "        self.d_opt.apply_gradients(zip(d_gradients, self.discriminator.trainable_variables))\n",
        "\n",
        "        with tf.GradientTape() as g_tape:\n",
        "            fake_images = self.generator(noise, training=True)\n",
        "            fake_output = self.discriminator(fake_images, training=False)\n",
        "\n",
        "            g_loss = self.g_loss_fn(real_labels, fake_output)\n",
        "\n",
        "        g_gradients = g_tape.gradient(g_loss, self.generator.trainable_variables)\n",
        "        self.g_opt.apply_gradients(zip(g_gradients, self.generator.trainable_variables))\n",
        "\n",
        "        return {\"d_loss\": total_d_loss, \"g_loss\": g_loss}"
      ],
      "metadata": {
        "id": "Tm3vgIEySA4l"
      },
      "execution_count": 31,
      "outputs": []
    },
    {
      "cell_type": "code",
      "source": [
        "g_opt = tf.keras.optimizers.Adam(1e-4)\n",
        "d_opt = tf.keras.optimizers.Adam(1e-5)\n",
        "\n",
        "g_loss_fn = tf.keras.losses.BinaryCrossentropy(from_logits=True)\n",
        "d_loss_fn = tf.keras.losses.BinaryCrossentropy(from_logits=True)"
      ],
      "metadata": {
        "id": "NP9-gNueSKLg"
      },
      "execution_count": 32,
      "outputs": []
    },
    {
      "cell_type": "code",
      "source": [
        "dataset = ds.shuffle(buffer_size=10000)\n",
        "\n",
        "generator = Generator()\n",
        "discriminator = Discriminator()\n",
        "scircle_gan = ScircleGAN(generator, discriminator)\n",
        "\n",
        "scircle_gan.compile(g_opt, d_opt, g_loss_fn, d_loss_fn)\n",
        "\n",
        "def plot_generated_images(epoch, generator, examples=4, dim=(4, 1), figsize=(1, 1)):\n",
        "    noise = tf.random.normal([examples, 100])\n",
        "    generated_images = generator(noise, training=False)\n",
        "    generated_images = (generated_images + 1) / 2.0\n",
        "\n",
        "    fig, axs = plt.subplots(dim[0], dim[1], figsize=figsize)\n",
        "    axs = axs.flatten()\n",
        "\n",
        "    for i in range(examples):\n",
        "        axs[i].imshow(generated_images[i, :, :, 0], cmap='gray')\n",
        "        axs[i].axis('off')\n",
        "\n",
        "    plt.tight_layout()\n",
        "    plt.savefig(f'gan_generated_image_epoch_{epoch+1}.png')\n",
        "    plt.show()\n",
        "\n",
        "epochs = 20\n",
        "for epoch in range(epochs):\n",
        "    for real_images in dataset:\n",
        "        losses = scircle_gan.train_step(real_images)\n",
        "\n",
        "    print(f\"Epoch {epoch+1}, d_loss: {losses['d_loss']}, g_loss: {losses['g_loss']}\")\n",
        "    plot_generated_images(epoch, generator)"
      ],
      "metadata": {
        "colab": {
          "base_uri": "https://localhost:8080/",
          "height": 708
        },
        "id": "XWzoukeVSH1F",
        "outputId": "6f1e86e2-272a-43af-dbd9-1b51cc97e152"
      },
      "execution_count": null,
      "outputs": [
        {
          "output_type": "stream",
          "name": "stderr",
          "text": [
            "/usr/local/lib/python3.10/dist-packages/keras/src/layers/core/dense.py:87: UserWarning: Do not pass an `input_shape`/`input_dim` argument to a layer. When using Sequential models, prefer using an `Input(shape)` object as the first layer in the model instead.\n",
            "  super().__init__(activity_regularizer=activity_regularizer, **kwargs)\n",
            "/usr/local/lib/python3.10/dist-packages/keras/src/layers/convolutional/base_conv.py:107: UserWarning: Do not pass an `input_shape`/`input_dim` argument to a layer. When using Sequential models, prefer using an `Input(shape)` object as the first layer in the model instead.\n",
            "  super().__init__(activity_regularizer=activity_regularizer, **kwargs)\n",
            "/usr/local/lib/python3.10/dist-packages/keras/src/layers/activations/leaky_relu.py:41: UserWarning: Argument `alpha` is deprecated. Use `negative_slope` instead.\n",
            "  warnings.warn(\n",
            "/usr/local/lib/python3.10/dist-packages/keras/src/backend/tensorflow/nn.py:707: UserWarning: \"`binary_crossentropy` received `from_logits=True`, but the `output` argument was produced by a Sigmoid activation and thus does not represent logits. Was this intended?\n",
            "  output, from_logits = _get_logits(\n"
          ]
        },
        {
          "output_type": "stream",
          "name": "stdout",
          "text": [
            "Epoch 1, d_loss: 0.504891037940979, g_loss: 0.7386083602905273\n"
          ]
        },
        {
          "output_type": "display_data",
          "data": {
            "text/plain": [
              "<Figure size 100x100 with 4 Axes>"
            ],
            "image/png": "[encoded data removed]"
          },
          "metadata": {}
        },
        {
          "output_type": "stream",
          "name": "stdout",
          "text": [
            "Epoch 2, d_loss: 0.16034342348575592, g_loss: 0.8812366724014282\n"
          ]
        },
        {
          "output_type": "display_data",
          "data": {
            "text/plain": [
              "<Figure size 100x100 with 4 Axes>"
            ],
            "image/png": "[encoded data removed]"
          },
          "metadata": {}
        },
        {
          "output_type": "stream",
          "name": "stdout",
          "text": [
            "Epoch 3, d_loss: 0.47177717089653015, g_loss: 0.9287497401237488\n"
          ]
        },
        {
          "output_type": "display_data",
          "data": {
            "text/plain": [
              "<Figure size 100x100 with 4 Axes>"
            ],
            "image/png": "[encoded data removed]"
          },
          "metadata": {}
        },
        {
          "output_type": "stream",
          "name": "stdout",
          "text": [
            "Epoch 4, d_loss: 0.24824334681034088, g_loss: 1.2806413173675537\n"
          ]
        },
        {
          "output_type": "display_data",
          "data": {
            "text/plain": [
              "<Figure size 100x100 with 4 Axes>"
            ],
            "image/png": "[encoded data removed]"
          },
          "metadata": {}
        },
        {
          "output_type": "stream",
          "name": "stdout",
          "text": [
            "Epoch 5, d_loss: 0.35499662160873413, g_loss: 1.1952191591262817\n"
          ]
        },
        {
          "output_type": "display_data",
          "data": {
            "text/plain": [
              "<Figure size 100x100 with 4 Axes>"
            ],
            "image/png": "[encoded data removed]"
          },
          "metadata": {}
        }
      ]
    },
    {
      "cell_type": "code",
      "source": [
        "cv2_imshow(generator.call(tf.random.normal([1, 100])).numpy().squeeze())"
      ],
      "metadata": {
        "colab": {
          "base_uri": "https://localhost:8080/",
          "height": 145
        },
        "id": "HibYPorYW85K",
        "outputId": "17ecba44-dad9-4eb1-a5bf-fdc9f31d734b"
      },
      "execution_count": 812,
      "outputs": [
        {
          "output_type": "display_data",
          "data": {
            "text/plain": [
              "<PIL.Image.Image image mode=L size=128x128>"
            ],
            "image/png": "[encoded data removed]",
            "image/jpeg": "[encoded data removed]"
          },
          "metadata": {}
        }
      ]
    },
    {
      "cell_type": "code",
      "source": [
        "cv2_imshow((generator.call(tf.random.normal([1, 100])).numpy()*255).squeeze())"
      ],
      "metadata": {
        "colab": {
          "base_uri": "https://localhost:8080/",
          "height": 145
        },
        "id": "11d0_WMgSPGB",
        "outputId": "f8aa7281-5878-4637-a872-c0bf60ccd1b3"
      },
      "execution_count": 819,
      "outputs": [
        {
          "output_type": "display_data",
          "data": {
            "text/plain": [
              "<PIL.Image.Image image mode=L size=128x128>"
            ],
            "image/png": "[encoded data removed]",
            "image/jpeg": "[encoded data removed]"
          },
          "metadata": {}
        }
      ]
    }
  ]
}